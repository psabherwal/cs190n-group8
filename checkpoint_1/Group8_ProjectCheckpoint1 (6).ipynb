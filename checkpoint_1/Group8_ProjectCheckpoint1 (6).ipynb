{
 "cells": [
  {
   "cell_type": "markdown",
   "id": "19e35778",
   "metadata": {},
   "source": [
    "# Term Project: Checkpoint #1\n",
    "\n",
    "**Group 8:** Palvi Sabherwal, Hannah Shakouri, Emily Thai"
   ]
  },
  {
   "cell_type": "markdown",
   "id": "a636d487",
   "metadata": {},
   "source": [
    "## EXPERIMENT\n",
    "\n",
    "*Provide a high-level explanation of the experiment(s) that you want to run through netUnicorn/netReplica. What type of data do you need to collect?*\n",
    "\n",
    "Our project’s goal is to predict download times of video chunks on video streaming platforms to minimize the interruptions caused by fluctuations in network performance. The input of our model will be historic QoS metrics, including throughput, latency, and packet loss. As for the training data we plan on running through netUnicorn/netReplica, we will collect time-series data on historical QoS metrics for video streaming sessions. "
   ]
  },
  {
   "cell_type": "markdown",
   "id": "e1159a54",
   "metadata": {},
   "source": [
    "## DATA COLLECTION PIPELINES\n",
    "*Provide (pseudo)code for the pipeline(s) that you will run for your data collection.*"
   ]
  },
  {
   "cell_type": "markdown",
   "id": "ccc5b7b1",
   "metadata": {},
   "source": [
    "### Import Statements\n",
    "*For each task in your pipeline, provide a reference to the implementation of this task that you will use for your data collection.*\n",
    "\n",
    "These imports statements are our reference to the implementations used in our pipeline tasks. "
   ]
  },
  {
   "cell_type": "code",
   "execution_count": 2,
   "id": "86096cc3",
   "metadata": {},
   "outputs": [],
   "source": [
    "import os\n",
    "import time\n",
    "import pandas as pd\n",
    "\n",
    "from netunicorn.client.remote import RemoteClient, RemoteClientException\n",
    "from netunicorn.base import Experiment, ExperimentStatus, Pipeline\n",
    "from netunicorn.library.tasks.capture.tcpdump import StartCapture, StopNamedCapture\n",
    "from netunicorn.library.tasks.upload.fileio import UploadToFileIO\n",
    "from netunicorn.library.tasks.upload.webdav import UploadToWebDav\n",
    "from netunicorn.library.tasks.basic import SleepTask\n",
    "from netunicorn.library.tasks.measurements.ookla_speedtest import SpeedTest\n",
    "from netunicorn.library.tasks.video_watchers.youtube_watcher import WatchYouTubeVideo"
   ]
  },
  {
   "cell_type": "markdown",
   "id": "c141631b",
   "metadata": {},
   "source": [
    "### Set Up netUnicorn\n",
    "Choosing a device for our project. Using our group's netUnicorn API credentials."
   ]
  },
  {
   "cell_type": "code",
   "execution_count": 2,
   "id": "6a050292",
   "metadata": {},
   "outputs": [],
   "source": [
    "NETUNICORN_ENDPOINT = os.environ.get('NETUNICORN_ENDPOINT', 'https://pinot.cs.ucsb.edu/netunicorn')\n",
    "NETUNICORN_LOGIN = os.environ.get('NETUNICORN_LOGIN', 'cs190n8')       \n",
    "NETUNICORN_PASSWORD = os.environ.get('NETUNICORN_PASSWORD', 'kfazTdrx')"
   ]
  },
  {
   "cell_type": "code",
   "execution_count": 5,
   "id": "f860b35f",
   "metadata": {},
   "outputs": [
    {
     "name": "stdout",
     "output_type": "stream",
     "text": [
      "Health Check: True\n",
      "[<Uncountable node pool with next node template: [aws-fargate-A-cs190n8-, aws-fargate-B-cs190n8-, aws-fargate-ARM64-cs190n8-]>]\n"
     ]
    }
   ],
   "source": [
    "client = RemoteClient(endpoint=NETUNICORN_ENDPOINT, login=NETUNICORN_LOGIN, password=NETUNICORN_PASSWORD)\n",
    "print(\"Health Check: {}\".format(client.healthcheck()))\n",
    "nodes = client.get_nodes()\n",
    "print(nodes)"
   ]
  },
  {
   "cell_type": "code",
   "execution_count": 3,
   "id": "ebb85fd4",
   "metadata": {},
   "outputs": [],
   "source": [
    "working_node = 'aws-fargate-A-cs190n8-'"
   ]
  },
  {
   "cell_type": "markdown",
   "id": "91b34d87",
   "metadata": {},
   "source": [
    "### Collecting Network Data for Video Streaming\n",
    "In our collecting network data pipeline we will be collecting packet captures while streaming video for YouTube."
   ]
  },
  {
   "cell_type": "code",
   "execution_count": 4,
   "id": "38ac9228",
   "metadata": {},
   "outputs": [
    {
     "data": {
      "text/plain": [
       "Pipeline(37bf9903-98e4-430c-99e6-a05bcd568754): {'root': [<netunicorn.library.tasks.capture.tcpdump.StartCapture object at 0x7f73f2907b50>], 1: [<netunicorn.library.tasks.video_watchers.youtube_watcher.WatchYouTubeVideo object at 0x7f73f2905420>], 2: [<netunicorn.library.tasks.video_watchers.youtube_watcher.WatchYouTubeVideo object at 0x7f73f29460b0>], 3: [<netunicorn.library.tasks.video_watchers.youtube_watcher.WatchYouTubeVideo object at 0x7f73f29460e0>], 4: [<netunicorn.library.tasks.video_watchers.youtube_watcher.WatchYouTubeVideo object at 0x7f73f2946140>], 5: [<netunicorn.library.tasks.video_watchers.youtube_watcher.WatchYouTubeVideo object at 0x7f73f2944c10>], 6: [<netunicorn.library.tasks.capture.tcpdump.StopNamedCapture object at 0x7f73f2906e30>], 7: [<netunicorn.library.tasks.basic.SleepTask with name 438b8673-39f1-43ad-ad81-db6d8732241f>], 8: [<netunicorn.library.tasks.capture.tcpdump.StartCapture object at 0x7f73f2944b50>], 9: [<netunicorn.library.tasks.video_watchers.youtube_watcher.WatchYouTubeVideo object at 0x7f73f2944a30>], 10: [<netunicorn.library.tasks.video_watchers.youtube_watcher.WatchYouTubeVideo object at 0x7f73f29465c0>], 11: [<netunicorn.library.tasks.video_watchers.youtube_watcher.WatchYouTubeVideo object at 0x7f73f2946590>], 12: [<netunicorn.library.tasks.video_watchers.youtube_watcher.WatchYouTubeVideo object at 0x7f73f2946530>], 13: [<netunicorn.library.tasks.video_watchers.youtube_watcher.WatchYouTubeVideo object at 0x7f73f29464d0>], 14: [<netunicorn.library.tasks.capture.tcpdump.StopNamedCapture object at 0x7f73f29465f0>], 15: [<netunicorn.library.tasks.capture.tcpdump.StartCapture object at 0x7f73f2944ac0>], 16: [<netunicorn.library.tasks.video_watchers.youtube_watcher.WatchYouTubeVideo object at 0x7f73f2944a00>], 17: [<netunicorn.library.tasks.video_watchers.youtube_watcher.WatchYouTubeVideo object at 0x7f73f2946260>], 18: [<netunicorn.library.tasks.video_watchers.youtube_watcher.WatchYouTubeVideo object at 0x7f73f2946230>], 19: [<netunicorn.library.tasks.video_watchers.youtube_watcher.WatchYouTubeVideo object at 0x7f73f29461d0>], 20: [<netunicorn.library.tasks.video_watchers.youtube_watcher.WatchYouTubeVideo object at 0x7f73f29445e0>], 21: [<netunicorn.library.tasks.capture.tcpdump.StopNamedCapture object at 0x7f73f2946290>], 22: [<netunicorn.library.tasks.upload.webdav.UploadToWebDav object at 0x7f73f2946470>], 23: [<netunicorn.library.tasks.upload.webdav.UploadToWebDav object at 0x7f73f2946380>], 24: [<netunicorn.library.tasks.upload.webdav.UploadToWebDav object at 0x7f73f2944400>]}"
      ]
     },
     "execution_count": 4,
     "metadata": {},
     "output_type": "execute_result"
    }
   ],
   "source": [
    "pipeline = Pipeline()\n",
    "\n",
    "# Flag to enable early stopping -- so if any task fails pipeline would go on working\n",
    "# pipeline.early_stopping = False\n",
    "\n",
    "# do another youtube video & rerun the results (maybe do another duration for the other video - around 10min)\n",
    "\n",
    "# Generate Data for YouTube\n",
    "pipeline.then(StartCapture(filepath=\"/tmp/youtube_capture1.pcap\", name=\"capture1\"))\n",
    "for _ in range(5):\n",
    "    pipeline.then(WatchYouTubeVideo(\"https://www.youtube.com/watch?v=-9CLMxYf2MI&ab_channel=GillianBowerSlime\", 10))\n",
    "pipeline.then(StopNamedCapture(start_capture_task_name=\"capture1\"))\n",
    "\n",
    "pipeline.then(SleepTask(2))\n",
    "\n",
    "pipeline.then(StartCapture(filepath=\"/tmp/youtube_capture2.pcap\", name=\"capture1\"))\n",
    "for _ in range(5):\n",
    "    pipeline.then(WatchYouTubeVideo(\"https://www.youtube.com/watch?v=5hZ4BPv0AbY\", 10))\n",
    "pipeline.then(StopNamedCapture(start_capture_task_name=\"capture2\"))\n",
    "\n",
    "pipeline.then(StartCapture(filepath=\"/tmp/youtube_capture3.pcap\", name=\"capture1\"))\n",
    "for _ in range(5):\n",
    "    pipeline.then(WatchYouTubeVideo(\"https://www.youtube.com/watch?v=Yi6nzlnRvTk\", 10))\n",
    "pipeline.then(StopNamedCapture(start_capture_task_name=\"capture3\"))\n",
    "\n",
    "pipeline.then(UploadToWebDav(filepaths={\"/tmp/youtube_capture1.pcap\"}, endpoint=\"http://snl-server-5.cs.ucsb.edu/cs190n/cs190n8/youtube_capture\", username=\"group8\", password=\"group8\"))\n",
    "pipeline.then(UploadToWebDav(filepaths={\"/tmp/youtube_capture2.pcap\"}, endpoint=\"http://snl-server-5.cs.ucsb.edu/cs190n/cs190n8/youtube_capture\", username=\"group8\", password=\"group8\"))\n",
    "pipeline.then(UploadToWebDav(filepaths={\"/tmp/youtube_capture3.pcap\"}, endpoint=\"http://snl-server-5.cs.ucsb.edu/cs190n/cs190n8/youtube_capture\", username=\"group8\", password=\"group8\"))"
   ]
  },
  {
   "cell_type": "code",
   "execution_count": 5,
   "id": "1040e14e",
   "metadata": {},
   "outputs": [
    {
     "name": "stdout",
     "output_type": "stream",
     "text": [
      "Health Check: True\n",
      "[<Uncountable node pool with next node template: [aws-fargate-A-cs190n8-, aws-fargate-B-cs190n8-, aws-fargate-ARM64-cs190n8-]>]\n"
     ]
    }
   ],
   "source": [
    "client = RemoteClient(endpoint=NETUNICORN_ENDPOINT, login=NETUNICORN_LOGIN, password=NETUNICORN_PASSWORD)\n",
    "print(\"Health Check: {}\".format(client.healthcheck()))\n",
    "nodes = client.get_nodes()\n",
    "print(nodes)"
   ]
  },
  {
   "cell_type": "code",
   "execution_count": 6,
   "id": "138d51c7",
   "metadata": {},
   "outputs": [
    {
     "name": "stdout",
     "output_type": "stream",
     "text": [
      " - Deployment: Node=aws-fargate-A-cs190n8-1, executor_id=, prepared=False, error=None\n"
     ]
    }
   ],
   "source": [
    "working_nodes = nodes.filter(lambda node: node.name.startswith(working_node)).take(1)\n",
    "\n",
    "# Creating the experiment\n",
    "experiment = Experiment().map(pipeline, working_nodes)\n",
    "print(experiment)"
   ]
  },
  {
   "cell_type": "markdown",
   "id": "a6675d33",
   "metadata": {},
   "source": [
    "### Preparing the Experiment\n",
    "We will use a predefined DockerImage."
   ]
  },
  {
   "cell_type": "code",
   "execution_count": 7,
   "id": "7ad1d2db",
   "metadata": {},
   "outputs": [],
   "source": [
    "from netunicorn.base import DockerImage\n",
    "for deployment in experiment:\n",
    "    # you can explore the image on the DockerHub\n",
    "    deployment.environment_definition = DockerImage(image='speeeday/chromium-speedtest:0.3.1')"
   ]
  },
  {
   "cell_type": "code",
   "execution_count": 9,
   "id": "87b2f3f7",
   "metadata": {},
   "outputs": [],
   "source": [
    "experiment_label = \"datacoll\""
   ]
  },
  {
   "cell_type": "markdown",
   "id": "d5dc693e",
   "metadata": {},
   "source": [
    "Now we can prepare the experiment, check for any errors and execute."
   ]
  },
  {
   "cell_type": "code",
   "execution_count": 10,
   "id": "a23eab08",
   "metadata": {},
   "outputs": [
    {
     "name": "stdout",
     "output_type": "stream",
     "text": [
      "ExperimentStatus.PREPARING\n",
      "ExperimentStatus.READY\n"
     ]
    }
   ],
   "source": [
    "try:\n",
    "    client.delete_experiment(experiment_label)\n",
    "except RemoteClientException:\n",
    "    pass\n",
    "\n",
    "client.prepare_experiment(experiment, experiment_label)\n",
    "\n",
    "while True:\n",
    "    info = client.get_experiment_status(experiment_label)\n",
    "    print(info.status)\n",
    "    if info.status == ExperimentStatus.READY:\n",
    "        break\n",
    "    time.sleep(20)"
   ]
  },
  {
   "cell_type": "code",
   "execution_count": 11,
   "id": "dd2fb40e",
   "metadata": {},
   "outputs": [
    {
     "name": "stdout",
     "output_type": "stream",
     "text": [
      "Prepared: True, error: None\n"
     ]
    }
   ],
   "source": [
    "for deployment in client.get_experiment_status(experiment_label).experiment:\n",
    "    print(f\"Prepared: {deployment.prepared}, error: {deployment.error}\")"
   ]
  },
  {
   "cell_type": "code",
   "execution_count": 12,
   "id": "b593b700",
   "metadata": {},
   "outputs": [
    {
     "name": "stdout",
     "output_type": "stream",
     "text": [
      "ExperimentStatus.RUNNING\n",
      "ExperimentStatus.RUNNING\n",
      "ExperimentStatus.RUNNING\n",
      "ExperimentStatus.RUNNING\n",
      "ExperimentStatus.RUNNING\n",
      "ExperimentStatus.RUNNING\n",
      "ExperimentStatus.RUNNING\n",
      "ExperimentStatus.RUNNING\n",
      "ExperimentStatus.RUNNING\n",
      "ExperimentStatus.RUNNING\n",
      "ExperimentStatus.RUNNING\n",
      "ExperimentStatus.RUNNING\n",
      "ExperimentStatus.RUNNING\n",
      "ExperimentStatus.RUNNING\n",
      "ExperimentStatus.RUNNING\n",
      "ExperimentStatus.RUNNING\n",
      "ExperimentStatus.RUNNING\n",
      "ExperimentStatus.RUNNING\n",
      "ExperimentStatus.RUNNING\n",
      "ExperimentStatus.RUNNING\n",
      "ExperimentStatus.RUNNING\n",
      "ExperimentStatus.RUNNING\n",
      "ExperimentStatus.RUNNING\n",
      "ExperimentStatus.RUNNING\n",
      "ExperimentStatus.RUNNING\n",
      "ExperimentStatus.RUNNING\n",
      "ExperimentStatus.RUNNING\n",
      "ExperimentStatus.RUNNING\n",
      "ExperimentStatus.RUNNING\n",
      "ExperimentStatus.RUNNING\n",
      "ExperimentStatus.FINISHED\n"
     ]
    }
   ],
   "source": [
    "client.start_execution(experiment_label)\n",
    "\n",
    "while True:\n",
    "    info = client.get_experiment_status(experiment_label)\n",
    "    print(info.status)\n",
    "    if info.status != ExperimentStatus.RUNNING:\n",
    "        break\n",
    "    time.sleep(20)"
   ]
  },
  {
   "cell_type": "code",
   "execution_count": null,
   "id": "778c4b21",
   "metadata": {},
   "outputs": [],
   "source": []
  }
 ],
 "metadata": {
  "kernelspec": {
   "display_name": "Python 3 (ipykernel)",
   "language": "python",
   "name": "python3"
  },
  "language_info": {
   "codemirror_mode": {
    "name": "ipython",
    "version": 3
   },
   "file_extension": ".py",
   "mimetype": "text/x-python",
   "name": "python",
   "nbconvert_exporter": "python",
   "pygments_lexer": "ipython3",
   "version": "3.10.12"
  }
 },
 "nbformat": 4,
 "nbformat_minor": 5
}
